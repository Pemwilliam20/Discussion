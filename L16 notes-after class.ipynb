{
 "cells": [
  {
   "cell_type": "code",
   "execution_count": null,
   "metadata": {},
   "outputs": [],
   "source": [
    "#### DON: POST ME\n",
    "diamonds2[['lprice','lprice_predict','lprice_predict_error']].describe()\n",
    "\n",
    "diamonds2['price_predict'] = np.exp(diamonds2['lprice_predict'])\n",
    "diamonds2['price_predict_error'] = diamonds2['price'] - diamonds2['price_predict']\n",
    "\n",
    "g = sns.scatterplot(data=diamonds2.sample(50), y='lprice',x='lcarat') \n",
    "sns.lineplot(data=diamonds2, y='lprice_predict',x='lcarat',color='red') "
   ]
  },
  {
   "cell_type": "code",
   "execution_count": null,
   "metadata": {},
   "outputs": [],
   "source": [
    "g = sns.scatterplot(data=diamonds2.sample(500), y='price',x='carat') \n",
    "sns.lineplot(data=diamonds2, y='price_predict',x='carat',color='red') "
   ]
  },
  {
   "cell_type": "code",
   "execution_count": null,
   "metadata": {},
   "outputs": [],
   "source": [
    "#############################################################\n",
    "# after taking away the effect of carats!\n",
    "# (the residal = y - yfit which is price minus the estimated\n", 
    "# impact of carats)\n",    
    "#....cut is actually positively related to price!\n",
    "#############################################################\n",
    "\n",
    "sns.catplot(data=diamonds2,\n",
    "                y='lprice_predict_error',x='cut',kind='box')"
   ]
  },
  {
   "cell_type": "code",
   "execution_count": null,
   "metadata": {},
   "outputs": [],
   "source": [
    "# a second variable\n",
    "\n",
    "X = diamonds2[['lcarat','x']]\n",
    "y = pd.DataFrame(diamonds2['lprice'])\n",
    "\n",
    "model = LinearRegression()\n",
    "model.fit(X, y).coef_"
   ]
  },
  {
   "cell_type": "code",
   "execution_count": null,
   "metadata": {},
   "outputs": [],
   "source": [
    "# a third ... a mysterious error emerges\n",
    "X = diamonds2[['lcarat','cut']]\n",
    "y = pd.DataFrame(diamonds2['lprice'])\n",
    "\n",
    "model = LinearRegression()\n",
    "model.fit(X, y) "
   ]
  }
 ],
 "metadata": {
  "kernelspec": {
   "display_name": "Python 3",
   "language": "python",
   "name": "python3"
  },
  "language_info": {
   "codemirror_mode": {
    "name": "ipython",
    "version": 3
   },
   "file_extension": ".py",
   "mimetype": "text/x-python",
   "name": "python",
   "nbconvert_exporter": "python",
   "pygments_lexer": "ipython3",
   "version": "3.7.6"
  }
 },
 "nbformat": 4,
 "nbformat_minor": 4
}
