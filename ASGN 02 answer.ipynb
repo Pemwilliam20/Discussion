{
 "cells": [
  {
   "cell_type": "code",
   "execution_count": 1,
   "metadata": {},
   "outputs": [],
   "source": [
    "import pandas as pd\n",
    "import numpy as np"
   ]
  },
  {
   "cell_type": "markdown",
   "metadata": {},
   "source": [
    "## Clean up\n",
    "\n",
    "Students should start by **deleting** the temp and output folders if they exist, then create new temp and output folders. If you need any additional inputs not provided by the professor, either (A) download them to inputs and use that way or (B) download them via python/pandas every time. If you go route (A), put the download inside an `if` statement that only runs when the file doesn't exist. "
   ]
  },
  {
   "cell_type": "markdown",
   "metadata": {},
   "source": [
    "## Data\n",
    "\n",
    "### Load and combine firm data and stock returns\n",
    "\n",
    "Data on returns and firms are obtained from CRSP and Compustat. The raw data was filtered to 2006, and the returns data was reduced to firms in Compustat to shrink the necessary file size. "
   ]
  },
  {
   "cell_type": "code",
   "execution_count": 2,
   "metadata": {},
   "outputs": [],
   "source": [
    "# load data \n",
    "\n",
    "stocks = pd.read_stata('https://github.com/LeDataSciFi/lectures-spr2020/blob/master/assignment_data/stocks_2006.dta?raw=true')\n",
    "stocks.name = \"Stocks\"\n",
    "firms = pd.read_stata('inputs/firms_2006.dta')   # students should move this into an input folder and load from there!\n",
    "firms.name = \"Firms\""
   ]
  },
  {
   "cell_type": "code",
   "execution_count": 3,
   "metadata": {},
   "outputs": [
    {
     "name": "stdout",
     "output_type": "stream",
     "text": [
      "\n",
      "\n",
      "\n",
      " ====================================================================== \n",
      " EXAMINING:  Stocks \n",
      " ======================================================================\n",
      "\n",
      "Head\n",
      "\n",
      "     permno       date       ret\n",
      "0  10001.0 2006-01-03 -0.001031\n",
      "1  10001.0 2006-01-04  0.011352\n",
      "2  10001.0 2006-01-05 -0.025510\n",
      "3  10001.0 2006-01-06 -0.015812\n",
      "4  10001.0 2006-01-09 -0.050963\n",
      "\n",
      "Tail\n",
      "\n",
      "           permno       date       ret\n",
      "1535251  93105.0 2006-12-22  0.000000\n",
      "1535252  93105.0 2006-12-26  0.001653\n",
      "1535253  93105.0 2006-12-27  0.029015\n",
      "1535254  93105.0 2006-12-28 -0.009646\n",
      "1535255  93105.0 2006-12-29 -0.032468\n",
      "\n",
      "shape\n",
      "\n",
      " (1535256, 3)\n",
      "<class 'pandas.core.frame.DataFrame'>\n",
      "Int64Index: 1535256 entries, 0 to 1535255\n",
      "Data columns (total 3 columns):\n",
      "permno    1535256 non-null float64\n",
      "date      1535256 non-null datetime64[ns]\n",
      "ret       1523298 non-null float64\n",
      "dtypes: datetime64[ns](1), float64(2)\n",
      "memory usage: 46.9 MB\n",
      "\n",
      "Info\n",
      "\n",
      " None\n",
      "\n",
      "Summary Stats\n",
      "\n",
      "              permno           ret\n",
      "count  1.535256e+06  1.523298e+06\n",
      "mean   7.401086e+04  7.630558e-04\n",
      "std    2.274953e+04  2.806116e-02\n",
      "min    1.000100e+04 -8.019802e-01\n",
      "25%    7.538300e+04 -9.758054e-03\n",
      "50%    8.339900e+04  0.000000e+00\n",
      "75%    8.903800e+04  1.005024e-02\n",
      "max    9.310500e+04  3.039735e+00\n",
      "\n",
      "\n",
      "\n",
      " ====================================================================== \n",
      " EXAMINING:  Firms \n",
      " ======================================================================\n",
      "\n",
      "Head\n",
      "\n",
      "     permno   fyear gsector state\n",
      "0  54594.0  2006.0      20    IL\n",
      "1  50906.0  2006.0      45    MN\n",
      "2  65832.0  2006.0      35    NJ\n",
      "3  21020.0  2006.0      20    TX\n",
      "4  11499.0  2006.0      20    OH\n",
      "\n",
      "Tail\n",
      "\n",
      "        permno   fyear gsector state\n",
      "6313  90338.0  2006.0      55      \n",
      "6314  90384.0  2006.0      15      \n",
      "6315  90095.0  2006.0      45      \n",
      "6316  91163.0  2006.0      45      \n",
      "6317  91412.0  2006.0      25    CA\n",
      "\n",
      "shape\n",
      "\n",
      " (6318, 4)\n",
      "<class 'pandas.core.frame.DataFrame'>\n",
      "Int64Index: 6318 entries, 0 to 6317\n",
      "Data columns (total 4 columns):\n",
      "permno     6318 non-null float64\n",
      "fyear      6318 non-null float32\n",
      "gsector    6318 non-null object\n",
      "state      6318 non-null object\n",
      "dtypes: float32(1), float64(1), object(2)\n",
      "memory usage: 222.1+ KB\n",
      "\n",
      "Info\n",
      "\n",
      " None\n",
      "\n",
      "Summary Stats\n",
      "\n",
      "              permno   fyear\n",
      "count   6318.000000  6318.0\n",
      "mean   74564.867205  2006.0\n",
      "std    22593.824605     0.0\n",
      "min    10001.000000  2006.0\n",
      "25%    75622.250000  2006.0\n",
      "50%    83833.000000  2006.0\n",
      "75%    89346.250000  2006.0\n",
      "max    93105.000000  2006.0\n",
      "40    1192\n",
      "45    1033\n",
      "25     792\n",
      "35     792\n",
      "20     703\n",
      "       624\n",
      "10     387\n",
      "15     323\n",
      "30     215\n",
      "55     138\n",
      "50     119\n",
      "Name: gsector, dtype: int64\n",
      "CA    809\n",
      "      646\n",
      "NY    607\n",
      "TX    481\n",
      "IL    344\n",
      "MA    335\n",
      "NJ    252\n",
      "PA    245\n",
      "FL    197\n",
      "OH    156\n",
      "GA    146\n",
      "VA    141\n",
      "MN    136\n",
      "CO    126\n",
      "CT    114\n",
      "DE    111\n",
      "NC    106\n",
      "MD    102\n",
      "WA    100\n",
      "MI     91\n",
      "MO     79\n",
      "TN     74\n",
      "IN     69\n",
      "ON     69\n",
      "AZ     67\n",
      "WI     58\n",
      "OR     47\n",
      "BC     46\n",
      "NV     44\n",
      "AB     43\n",
      "OK     39\n",
      "AL     34\n",
      "UT     34\n",
      "KY     34\n",
      "SC     31\n",
      "LA     31\n",
      "KS     31\n",
      "IA     26\n",
      "QC     24\n",
      "NE     21\n",
      "AR     20\n",
      "DC     19\n",
      "MS     17\n",
      "NH     14\n",
      "RI     13\n",
      "ID     12\n",
      "ME     11\n",
      "HI     10\n",
      "WV     10\n",
      "VT      8\n",
      "SD      7\n",
      "PR      7\n",
      "MT      6\n",
      "ND      4\n",
      "NM      4\n",
      "SK      3\n",
      "AK      3\n",
      "WY      2\n",
      "MB      1\n",
      "NS      1\n",
      "Name: state, dtype: int64\n"
     ]
    }
   ],
   "source": [
    "# explore data\n",
    "\n",
    "for df in [stocks,firms]:\n",
    "    print(\"\\n\\n\\n\",\"=\"*70,\"\\n\",\"EXAMINING: \",df.name,\"\\n\",\"=\"*70)\n",
    "    print(\"\\nHead\\n\\n\",df.head())\n",
    "    print(\"\\nTail\\n\\n\",df.tail())\n",
    "    print(\"\\nshape\\n\\n\",df.shape)\n",
    "    print(\"\\nInfo\\n\\n\",df.info())\n",
    "    print(\"\\nSummary Stats\\n\\n\",df.describe())\n",
    "    #print(\"\\n# of unique values\\n\\n\",df.nunique())\n",
    "    \n",
    "# these are categorical variables... let's see what's in them\n",
    "\n",
    "print(firms['gsector'].value_counts()) # OYE! pandas imported the blank values, but they aren't \"missing\" \n",
    "print(firms['state'].value_counts())   # per the above \"describe's\" output. Let's keep this in mind..."
   ]
  },
  {
   "cell_type": "code",
   "execution_count": 4,
   "metadata": {},
   "outputs": [
    {
     "name": "stdout",
     "output_type": "stream",
     "text": [
      "There are 1535256 obs in the stock data covering 6311 unique stocks.\n",
      "\n",
      "There are 6318 obs in the firm data covering 6318 unique stocks.\n"
     ]
    }
   ],
   "source": [
    "print(\"There are\",len(stocks['permno']),\"obs in the stock data\",\n",
    "      \"covering\",stocks['permno'].nunique(),\"unique stocks.\")\n",
    "print(\"\")\n",
    "print(\"There are\",len(firms['permno']),\"obs in the firm data\",\n",
    "      \"covering\",firms['permno'].nunique(),\"unique stocks.\")\n"
   ]
  },
  {
   "cell_type": "code",
   "execution_count": 6,
   "metadata": {},
   "outputs": [
    {
     "name": "stdout",
     "output_type": "stream",
     "text": [
      "There are 1535256 obs in the combined data covering 6311 unique stocks.\n"
     ]
    }
   ],
   "source": [
    "# lets merge the data in\n",
    "\n",
    "stocks['year'] = stocks['date'].dt.year \n",
    "                 # in this homework, you could just merge on permno, but going forward, we will\n",
    "                 # have multiple years, so you'll merge on firm-year. I've called this \"year\"\n",
    "                 # and not \"fyear\" because these are CALENDAR DATES. \n",
    "sample = pd.merge(left=stocks,right=firms,\n",
    "                  left_on=['permno','year'],right_on=['permno','fyear'], # stock data on cal year, firm data on fiscal year\n",
    "                  how='inner')\n",
    "\n",
    "# whats the sample size now?\n",
    "\n",
    "print(\"There are\",len(sample['permno']),\"obs in the combined data\",\n",
    "      \"covering\",sample['permno'].nunique(),\"unique stocks.\") \n",
    "     # we kept the entire stock dataset, but lost some of the firm in the firms data... \n",
    "     # either they had no traded stock, CRSP didn't cover, or our \"permno\" identifier wasn't consistent across both"
   ]
  },
  {
   "cell_type": "markdown",
   "metadata": {},
   "source": [
    "### Sample restrictions\n",
    "\n",
    "This project is curious about how risk and return vary by industry and a firm's home state. To make it a bit simpler to analyze, we are going to focus on IT and Finance firms in California and New York."
   ]
  },
  {
   "cell_type": "code",
   "execution_count": 7,
   "metadata": {},
   "outputs": [
    {
     "name": "stdout",
     "output_type": "stream",
     "text": [
      "There are 152051 obs in the industry-state subsample covering 624 unique stocks. \n",
      "\n"
     ]
    }
   ],
   "source": [
    "sample = sample.query('state in [\"CA\",\"NY\"] & gsector in [\"40\",\"45\"]') \n",
    "    # gsector's are in quotes because that variable is an object (ie string), not a number type. \n",
    "    \n",
    "print(\"There are\",len(sample['permno']),\"obs in the industry-state subsample\",\n",
    "      \"covering\",sample['permno'].nunique(),\"unique stocks. \\n\") \n",
    "# print(sample)    \n",
    "\n",
    "# output will be much easier for readers if we name the industry instead of reporting an industry\n",
    "\n",
    "sample.loc[sample['gsector']==\"40\",'ind'] = \"Finance\"\n",
    "sample.loc[sample['gsector']==\"45\",'ind'] = \"IT\""
   ]
  },
  {
   "cell_type": "markdown",
   "metadata": {},
   "source": [
    "## Examining the daily returns\n",
    "\n",
    "This section builds \"T1\" in the assignment prompt, though I separated the table for visual clarity."
   ]
  },
  {
   "cell_type": "markdown",
   "metadata": {},
   "source": [
    "**The number of observations and firms in each state-industry**\n",
    "\n",
    "- CA is a much more common home for IT firms than NY\n",
    "- Slightly more finance firms in NY than CA\n",
    "- Firms in NY are more likely to be in Finance than IT"
   ]
  },
  {
   "cell_type": "code",
   "execution_count": 14,
   "metadata": {},
   "outputs": [
    {
     "data": {
      "text/html": [
       "<style  type=\"text/css\" >\n",
       "</style><table id=\"T_4a3d4d78_4d0c_11ea_b552_68f72834ab96\" ><thead>    <tr>        <th class=\"blank level0\" ></th>        <th class=\"col_heading level0 col0\" colspan=2>nunique</th>        <th class=\"col_heading level0 col2\" colspan=2>count</th>    </tr>    <tr>        <th class=\"index_name level1\" >state</th>        <th class=\"col_heading level1 col0\" >CA</th>        <th class=\"col_heading level1 col1\" >NY</th>        <th class=\"col_heading level1 col2\" >CA</th>        <th class=\"col_heading level1 col3\" >NY</th>    </tr>    <tr>        <th class=\"index_name level0\" >ind</th>        <th class=\"blank\" ></th>        <th class=\"blank\" ></th>        <th class=\"blank\" ></th>        <th class=\"blank\" ></th>    </tr></thead><tbody>\n",
       "                <tr>\n",
       "                        <th id=\"T_4a3d4d78_4d0c_11ea_b552_68f72834ab96level0_row0\" class=\"row_heading level0 row0\" >Finance</th>\n",
       "                        <td id=\"T_4a3d4d78_4d0c_11ea_b552_68f72834ab96row0_col0\" class=\"data row0 col0\" >111</td>\n",
       "                        <td id=\"T_4a3d4d78_4d0c_11ea_b552_68f72834ab96row0_col1\" class=\"data row0 col1\" >146</td>\n",
       "                        <td id=\"T_4a3d4d78_4d0c_11ea_b552_68f72834ab96row0_col2\" class=\"data row0 col2\" >27,357</td>\n",
       "                        <td id=\"T_4a3d4d78_4d0c_11ea_b552_68f72834ab96row0_col3\" class=\"data row0 col3\" >34,762</td>\n",
       "            </tr>\n",
       "            <tr>\n",
       "                        <th id=\"T_4a3d4d78_4d0c_11ea_b552_68f72834ab96level0_row1\" class=\"row_heading level0 row1\" >IT</th>\n",
       "                        <td id=\"T_4a3d4d78_4d0c_11ea_b552_68f72834ab96row1_col0\" class=\"data row1 col0\" >297</td>\n",
       "                        <td id=\"T_4a3d4d78_4d0c_11ea_b552_68f72834ab96row1_col1\" class=\"data row1 col1\" >70</td>\n",
       "                        <td id=\"T_4a3d4d78_4d0c_11ea_b552_68f72834ab96row1_col2\" class=\"data row1 col2\" >72,873</td>\n",
       "                        <td id=\"T_4a3d4d78_4d0c_11ea_b552_68f72834ab96row1_col3\" class=\"data row1 col3\" >17,059</td>\n",
       "            </tr>\n",
       "    </tbody></table>"
      ],
      "text/plain": [
       "<pandas.io.formats.style.Styler at 0xb88e348>"
      ]
     },
     "execution_count": 14,
     "metadata": {},
     "output_type": "execute_result"
    }
   ],
   "source": [
    "(sample.pivot_table(index='ind',columns='state',values='permno',\n",
    "                    aggfunc=['nunique','count']) # lambda x: x.count()//x.nunique() <-- obs per firm ~ 245\n",
    "                    .stack()\n",
    ").style.format(\"{:,.0f}\") # specify format! here, show commas for thousands"
   ]
  },
  {
   "cell_type": "markdown",
   "metadata": {},
   "source": [
    "**Daily return characteristics by state-industry**\n",
    "\n",
    "Key observations:\n",
    "- NY Finance firms have the highest average returns\n",
    "- IT has more variance than Finance in both states\n",
    "- Seems there are some large outliers (300% return!) which indicates that we should clean the data in some way. Common filters in asset pricing tests: exclude penny stocks, keep only common shares, US firms only, no ADRs. \n",
    "\n",
    "_Note: Statistics below are reported as daily **percent** returns. (I.e. 0.06 means 0.06%, or 0.0006.)_"
   ]
  },
  {
   "cell_type": "code",
   "execution_count": 17,
   "metadata": {},
   "outputs": [
    {
     "data": {
      "text/html": [
       "<style  type=\"text/css\" >\n",
       "</style><table id=\"T_6d629a54_4d0c_11ea_8b5e_68f72834ab96\" ><thead>    <tr>        <th class=\"blank\" ></th>        <th class=\"index_name level0\" >state</th>        <th class=\"col_heading level0 col0\" >CA</th>        <th class=\"col_heading level0 col1\" >NY</th>    </tr>    <tr>        <th class=\"index_name level0\" >ind</th>        <th class=\"index_name level1\" ></th>        <th class=\"blank\" ></th>        <th class=\"blank\" ></th>    </tr></thead><tbody>\n",
       "                <tr>\n",
       "                        <th id=\"T_6d629a54_4d0c_11ea_8b5e_68f72834ab96level0_row0\" class=\"row_heading level0 row0\" rowspan=2>Finance</th>\n",
       "                        <th id=\"T_6d629a54_4d0c_11ea_8b5e_68f72834ab96level1_row0\" class=\"row_heading level1 row0\" >mean</th>\n",
       "                        <td id=\"T_6d629a54_4d0c_11ea_8b5e_68f72834ab96row0_col0\" class=\"data row0 col0\" >0.060</td>\n",
       "                        <td id=\"T_6d629a54_4d0c_11ea_8b5e_68f72834ab96row0_col1\" class=\"data row0 col1\" >0.095</td>\n",
       "            </tr>\n",
       "            <tr>\n",
       "                                <th id=\"T_6d629a54_4d0c_11ea_8b5e_68f72834ab96level1_row1\" class=\"row_heading level1 row1\" >std</th>\n",
       "                        <td id=\"T_6d629a54_4d0c_11ea_8b5e_68f72834ab96row1_col0\" class=\"data row1 col0\" >1.775</td>\n",
       "                        <td id=\"T_6d629a54_4d0c_11ea_8b5e_68f72834ab96row1_col1\" class=\"data row1 col1\" >1.973</td>\n",
       "            </tr>\n",
       "            <tr>\n",
       "                        <th id=\"T_6d629a54_4d0c_11ea_8b5e_68f72834ab96level0_row2\" class=\"row_heading level0 row2\" rowspan=2>IT</th>\n",
       "                        <th id=\"T_6d629a54_4d0c_11ea_8b5e_68f72834ab96level1_row2\" class=\"row_heading level1 row2\" >mean</th>\n",
       "                        <td id=\"T_6d629a54_4d0c_11ea_8b5e_68f72834ab96row2_col0\" class=\"data row2 col0\" >0.063</td>\n",
       "                        <td id=\"T_6d629a54_4d0c_11ea_8b5e_68f72834ab96row2_col1\" class=\"data row2 col1\" >0.066</td>\n",
       "            </tr>\n",
       "            <tr>\n",
       "                                <th id=\"T_6d629a54_4d0c_11ea_8b5e_68f72834ab96level1_row3\" class=\"row_heading level1 row3\" >std</th>\n",
       "                        <td id=\"T_6d629a54_4d0c_11ea_8b5e_68f72834ab96row3_col0\" class=\"data row3 col0\" >3.520</td>\n",
       "                        <td id=\"T_6d629a54_4d0c_11ea_8b5e_68f72834ab96row3_col1\" class=\"data row3 col1\" >3.258</td>\n",
       "            </tr>\n",
       "    </tbody></table>"
      ],
      "text/plain": [
       "<pandas.io.formats.style.Styler at 0xb8a6948>"
      ]
     },
     "execution_count": 17,
     "metadata": {},
     "output_type": "execute_result"
    }
   ],
   "source": [
    "(sample.assign(ret=sample['ret']*100)\n",
    "       .pivot_table(index='ind',columns='state',values='ret',\n",
    "                    aggfunc=['mean','std']) # lambda x: x.count()//x.nunique() <-- obs per firm ~ 245\n",
    "       .stack(level=0)\n",
    ").style.format(\"{:.3f}\")"
   ]
  },
  {
   "cell_type": "code",
   "execution_count": 18,
   "metadata": {},
   "outputs": [
    {
     "data": {
      "text/html": [
       "<style  type=\"text/css\" >\n",
       "</style><table id=\"T_77f54da6_4d0c_11ea_8b0c_68f72834ab96\" ><thead>    <tr>        <th class=\"blank\" ></th>        <th class=\"index_name level0\" >state</th>        <th class=\"col_heading level0 col0\" >CA</th>        <th class=\"col_heading level0 col1\" >NY</th>    </tr>    <tr>        <th class=\"index_name level0\" >gsector</th>        <th class=\"index_name level1\" ></th>        <th class=\"blank\" ></th>        <th class=\"blank\" ></th>    </tr></thead><tbody>\n",
       "                <tr>\n",
       "                        <th id=\"T_77f54da6_4d0c_11ea_8b0c_68f72834ab96level0_row0\" class=\"row_heading level0 row0\" rowspan=2>40</th>\n",
       "                        <th id=\"T_77f54da6_4d0c_11ea_8b0c_68f72834ab96level1_row0\" class=\"row_heading level1 row0\" >max</th>\n",
       "                        <td id=\"T_77f54da6_4d0c_11ea_8b0c_68f72834ab96row0_col0\" class=\"data row0 col0\" >41.01</td>\n",
       "                        <td id=\"T_77f54da6_4d0c_11ea_8b0c_68f72834ab96row0_col1\" class=\"data row0 col1\" >23.46</td>\n",
       "            </tr>\n",
       "            <tr>\n",
       "                                <th id=\"T_77f54da6_4d0c_11ea_8b0c_68f72834ab96level1_row1\" class=\"row_heading level1 row1\" >min</th>\n",
       "                        <td id=\"T_77f54da6_4d0c_11ea_8b0c_68f72834ab96row1_col0\" class=\"data row1 col0\" >-27.51</td>\n",
       "                        <td id=\"T_77f54da6_4d0c_11ea_8b0c_68f72834ab96row1_col1\" class=\"data row1 col1\" >-32.61</td>\n",
       "            </tr>\n",
       "            <tr>\n",
       "                        <th id=\"T_77f54da6_4d0c_11ea_8b0c_68f72834ab96level0_row2\" class=\"row_heading level0 row2\" rowspan=2>45</th>\n",
       "                        <th id=\"T_77f54da6_4d0c_11ea_8b0c_68f72834ab96level1_row2\" class=\"row_heading level1 row2\" >max</th>\n",
       "                        <td id=\"T_77f54da6_4d0c_11ea_8b0c_68f72834ab96row2_col0\" class=\"data row2 col0\" >303.97</td>\n",
       "                        <td id=\"T_77f54da6_4d0c_11ea_8b0c_68f72834ab96row2_col1\" class=\"data row2 col1\" >65.57</td>\n",
       "            </tr>\n",
       "            <tr>\n",
       "                                <th id=\"T_77f54da6_4d0c_11ea_8b0c_68f72834ab96level1_row3\" class=\"row_heading level1 row3\" >min</th>\n",
       "                        <td id=\"T_77f54da6_4d0c_11ea_8b0c_68f72834ab96row3_col0\" class=\"data row3 col0\" >-39.19</td>\n",
       "                        <td id=\"T_77f54da6_4d0c_11ea_8b0c_68f72834ab96row3_col1\" class=\"data row3 col1\" >-35.93</td>\n",
       "            </tr>\n",
       "    </tbody></table>"
      ],
      "text/plain": [
       "<pandas.io.formats.style.Styler at 0xb8a8d48>"
      ]
     },
     "execution_count": 18,
     "metadata": {},
     "output_type": "execute_result"
    }
   ],
   "source": [
    "(sample.assign(ret=sample['ret']*100)\n",
    "       .pivot_table(index='gsector',columns='state',values='ret',\n",
    "                    aggfunc=['max','min']) # lambda x: x.count()//x.nunique() <-- obs per firm ~ 245\n",
    "       .stack(level=0)\n",
    ").style.format(\"{:.2f}\")"
   ]
  },
  {
   "cell_type": "markdown",
   "metadata": {},
   "source": [
    "## Examining annual returns\n",
    "\n",
    "This section builds up to \"T2\" in the assignment prompt\n",
    "\n",
    "### How to compute annual returns"
   ]
  },
  {
   "cell_type": "markdown",
   "metadata": {},
   "source": [
    "Let $r_t = (P_t+D_t)/P_{t-1}$ be the simple return for a single period with dividends included. \n",
    "\n",
    "Let $R_t = (1+r_t)$ be the **gross** (thus, the capital \"R\") return for a single period.\n",
    "\n",
    "Then the gross return for a number of periods is\n",
    "\n",
    "\\begin{equation}\n",
    "R[0,T] = \\prod_{t=1}^T R_t\n",
    "\\end{equation}\n",
    "\n",
    "and the return for the same set of periods is simply the above minus 1.\n",
    "\n",
    "\\begin{align}\n",
    "r[0,T] = & R[0,T] - 1  \\\\\n",
    "= & (\\prod_{t=1}^T R_t) - 1\n",
    "\\end{align}\n",
    "\n",
    "There is one more way to compute the gross return: \"Sum the log returns, then exponentiate\":\n",
    "\n",
    "\\begin{align}\n",
    "R[0,T] = & \\prod_{t=1}^T R_t \\\\\n",
    "       = & \\prod_{t=1}^T ( e(ln( R_t))        ) \\\\\n",
    "       = & e(\\sum_{t=1}^T ln(R_t)) \\\\\n",
    "\\end{align}\n",
    "the second line works because $e(ln(x))=x$ and the last line works because $e^a*e^b*e^c=e^{a+b+c}$."
   ]
  },
  {
   "cell_type": "code",
   "execution_count": 19,
   "metadata": {},
   "outputs": [
    {
     "name": "stdout",
     "output_type": "stream",
     "text": [
      "19.4 ms ± 2.4 ms per loop (mean ± std. dev. of 7 runs, 100 loops each)\n"
     ]
    }
   ],
   "source": [
    "%%timeit\n",
    "# approach #1: multiply all the gross returns, subtract one\n",
    "(sample.assign(ret=sample['ret']+1) # now we have R(t) for each observation\n",
    "       .groupby('permno')    # for each firm,\n",
    "       ['ret'].prod()               # multiple all the gross returns\n",
    "       -1                           # and subtract one to get back to the total period return\n",
    ")"
   ]
  },
  {
   "cell_type": "code",
   "execution_count": 20,
   "metadata": {},
   "outputs": [
    {
     "name": "stdout",
     "output_type": "stream",
     "text": [
      "18.7 ms ± 281 µs per loop (mean ± std. dev. of 7 runs, 10 loops each)\n"
     ]
    }
   ],
   "source": [
    "%%timeit\n",
    "# approach #2 (equivalent): sum the log returns, then exponentiate and subtract 1\n",
    "(sample.assign(ret=np.log(sample['ret']+1)) # now we have log(R(t)) for each observation\n",
    "       .groupby('permno')['ret']            # for each firm,  \n",
    "       .sum()                               # sum the log gross returns\n",
    "       .apply(np.exp)-1                     # exp and subtract one\n",
    ")"
   ]
  },
  {
   "cell_type": "markdown",
   "metadata": {},
   "source": [
    "_(Seems like they are roughly the same speed.)_"
   ]
  },
  {
   "cell_type": "markdown",
   "metadata": {},
   "source": [
    "### How to compute annual standard deviation\n",
    "\n",
    "If $\\sigma_d$ is the standard deviation of daily returns, and we assume there is \n",
    "250 trading days in a year, then the annualized standard deviation is simply $\\sigma_y = \\sqrt{250}*\\sigma_d$."
   ]
  },
  {
   "cell_type": "markdown",
   "metadata": {},
   "source": [
    "### Calculating annual measures\n",
    "\n",
    "This step will take our firm-day return structure and create a firm-year structure."
   ]
  },
  {
   "cell_type": "code",
   "execution_count": 21,
   "metadata": {},
   "outputs": [],
   "source": [
    "annual = pd.DataFrame() # open an empty dataframe\n",
    "annual['ret'] = (sample.assign(ret=sample['ret']+1) # now we have R(t) for each observation\n",
    "                       .groupby('permno')['ret']    # for each firm,\n",
    "                       .prod()                      # multiple all the gross returns\n",
    "                       -1                           # and subtract one to get back to the total period return\n",
    ")\n",
    "annual['std'] = sample.groupby('permno')['ret'].std().mul(np.sqrt(250))\n",
    "\n",
    "# we want our industry and state variables still!\n",
    "annual['state'] = sample.groupby('permno')['state'].first()\n",
    "annual['ind']   = sample.groupby('permno')['ind'].first()"
   ]
  },
  {
   "cell_type": "code",
   "execution_count": 22,
   "metadata": {},
   "outputs": [
    {
     "data": {
      "text/html": [
       "<div>\n",
       "<style scoped>\n",
       "    .dataframe tbody tr th:only-of-type {\n",
       "        vertical-align: middle;\n",
       "    }\n",
       "\n",
       "    .dataframe tbody tr th {\n",
       "        vertical-align: top;\n",
       "    }\n",
       "\n",
       "    .dataframe thead th {\n",
       "        text-align: right;\n",
       "    }\n",
       "</style>\n",
       "<table border=\"1\" class=\"dataframe\">\n",
       "  <thead>\n",
       "    <tr style=\"text-align: right;\">\n",
       "      <th></th>\n",
       "      <th>ret</th>\n",
       "      <th>std</th>\n",
       "    </tr>\n",
       "  </thead>\n",
       "  <tbody>\n",
       "    <tr>\n",
       "      <th>count</th>\n",
       "      <td>624.000000</td>\n",
       "      <td>621.000000</td>\n",
       "    </tr>\n",
       "    <tr>\n",
       "      <th>mean</th>\n",
       "      <td>0.134586</td>\n",
       "      <td>0.408751</td>\n",
       "    </tr>\n",
       "    <tr>\n",
       "      <th>std</th>\n",
       "      <td>0.378569</td>\n",
       "      <td>0.273974</td>\n",
       "    </tr>\n",
       "    <tr>\n",
       "      <th>min</th>\n",
       "      <td>-0.750063</td>\n",
       "      <td>0.092263</td>\n",
       "    </tr>\n",
       "    <tr>\n",
       "      <th>25%</th>\n",
       "      <td>-0.088569</td>\n",
       "      <td>0.252500</td>\n",
       "    </tr>\n",
       "    <tr>\n",
       "      <th>50%</th>\n",
       "      <td>0.094937</td>\n",
       "      <td>0.372133</td>\n",
       "    </tr>\n",
       "    <tr>\n",
       "      <th>75%</th>\n",
       "      <td>0.311344</td>\n",
       "      <td>0.504754</td>\n",
       "    </tr>\n",
       "    <tr>\n",
       "      <th>max</th>\n",
       "      <td>2.363395</td>\n",
       "      <td>5.157897</td>\n",
       "    </tr>\n",
       "  </tbody>\n",
       "</table>\n",
       "</div>"
      ],
      "text/plain": [
       "              ret         std\n",
       "count  624.000000  621.000000\n",
       "mean     0.134586    0.408751\n",
       "std      0.378569    0.273974\n",
       "min     -0.750063    0.092263\n",
       "25%     -0.088569    0.252500\n",
       "50%      0.094937    0.372133\n",
       "75%      0.311344    0.504754\n",
       "max      2.363395    5.157897"
      ]
     },
     "execution_count": 22,
     "metadata": {},
     "output_type": "execute_result"
    }
   ],
   "source": [
    "annual.describe()\n"
   ]
  },
  {
   "cell_type": "markdown",
   "metadata": {},
   "source": [
    "### The distribution of annual returns - T2\n",
    "\n",
    "`Describe` gives use a lot of statistics, but perhaps we should also examine skewness and kurtosis and the 10th and 90th percentiles! To do so, we would probably write a function that returned \"describe\", along with those stats."
   ]
  },
  {
   "cell_type": "code",
   "execution_count": 23,
   "metadata": {},
   "outputs": [
    {
     "data": {
      "text/html": [
       "<style  type=\"text/css\" >\n",
       "</style><table id=\"T_a58f21ae_4d0e_11ea_acd9_68f72834ab96\" ><thead>    <tr>        <th class=\"blank level0\" ></th>        <th class=\"col_heading level0 col0\" colspan=4>ret</th>    </tr>    <tr>        <th class=\"index_name level1\" >state</th>        <th class=\"col_heading level1 col0\" colspan=2>CA</th>        <th class=\"col_heading level1 col2\" colspan=2>NY</th>    </tr>    <tr>        <th class=\"index_name level2\" >ind</th>        <th class=\"col_heading level2 col0\" >Finance</th>        <th class=\"col_heading level2 col1\" >IT</th>        <th class=\"col_heading level2 col2\" >Finance</th>        <th class=\"col_heading level2 col3\" >IT</th>    </tr></thead><tbody>\n",
       "                <tr>\n",
       "                        <th id=\"T_a58f21ae_4d0e_11ea_acd9_68f72834ab96level0_row0\" class=\"row_heading level0 row0\" >count</th>\n",
       "                        <td id=\"T_a58f21ae_4d0e_11ea_acd9_68f72834ab96row0_col0\" class=\"data row0 col0\" >111.000</td>\n",
       "                        <td id=\"T_a58f21ae_4d0e_11ea_acd9_68f72834ab96row0_col1\" class=\"data row0 col1\" >297.000</td>\n",
       "                        <td id=\"T_a58f21ae_4d0e_11ea_acd9_68f72834ab96row0_col2\" class=\"data row0 col2\" >146.000</td>\n",
       "                        <td id=\"T_a58f21ae_4d0e_11ea_acd9_68f72834ab96row0_col3\" class=\"data row0 col3\" >70.000</td>\n",
       "            </tr>\n",
       "            <tr>\n",
       "                        <th id=\"T_a58f21ae_4d0e_11ea_acd9_68f72834ab96level0_row1\" class=\"row_heading level0 row1\" >mean</th>\n",
       "                        <td id=\"T_a58f21ae_4d0e_11ea_acd9_68f72834ab96row1_col0\" class=\"data row1 col0\" >0.140</td>\n",
       "                        <td id=\"T_a58f21ae_4d0e_11ea_acd9_68f72834ab96row1_col1\" class=\"data row1 col1\" >0.094</td>\n",
       "                        <td id=\"T_a58f21ae_4d0e_11ea_acd9_68f72834ab96row1_col2\" class=\"data row1 col2\" >0.235</td>\n",
       "                        <td id=\"T_a58f21ae_4d0e_11ea_acd9_68f72834ab96row1_col3\" class=\"data row1 col3\" >0.088</td>\n",
       "            </tr>\n",
       "            <tr>\n",
       "                        <th id=\"T_a58f21ae_4d0e_11ea_acd9_68f72834ab96level0_row2\" class=\"row_heading level0 row2\" >std</th>\n",
       "                        <td id=\"T_a58f21ae_4d0e_11ea_acd9_68f72834ab96row2_col0\" class=\"data row2 col0\" >0.235</td>\n",
       "                        <td id=\"T_a58f21ae_4d0e_11ea_acd9_68f72834ab96row2_col1\" class=\"data row2 col1\" >0.437</td>\n",
       "                        <td id=\"T_a58f21ae_4d0e_11ea_acd9_68f72834ab96row2_col2\" class=\"data row2 col2\" >0.332</td>\n",
       "                        <td id=\"T_a58f21ae_4d0e_11ea_acd9_68f72834ab96row2_col3\" class=\"data row2 col3\" >0.351</td>\n",
       "            </tr>\n",
       "            <tr>\n",
       "                        <th id=\"T_a58f21ae_4d0e_11ea_acd9_68f72834ab96level0_row3\" class=\"row_heading level0 row3\" >min</th>\n",
       "                        <td id=\"T_a58f21ae_4d0e_11ea_acd9_68f72834ab96row3_col0\" class=\"data row3 col0\" >-0.473</td>\n",
       "                        <td id=\"T_a58f21ae_4d0e_11ea_acd9_68f72834ab96row3_col1\" class=\"data row3 col1\" >-0.750</td>\n",
       "                        <td id=\"T_a58f21ae_4d0e_11ea_acd9_68f72834ab96row3_col2\" class=\"data row3 col2\" >-0.666</td>\n",
       "                        <td id=\"T_a58f21ae_4d0e_11ea_acd9_68f72834ab96row3_col3\" class=\"data row3 col3\" >-0.592</td>\n",
       "            </tr>\n",
       "            <tr>\n",
       "                        <th id=\"T_a58f21ae_4d0e_11ea_acd9_68f72834ab96level0_row4\" class=\"row_heading level0 row4\" >25%</th>\n",
       "                        <td id=\"T_a58f21ae_4d0e_11ea_acd9_68f72834ab96row4_col0\" class=\"data row4 col0\" >-0.014</td>\n",
       "                        <td id=\"T_a58f21ae_4d0e_11ea_acd9_68f72834ab96row4_col1\" class=\"data row4 col1\" >-0.187</td>\n",
       "                        <td id=\"T_a58f21ae_4d0e_11ea_acd9_68f72834ab96row4_col2\" class=\"data row4 col2\" >0.061</td>\n",
       "                        <td id=\"T_a58f21ae_4d0e_11ea_acd9_68f72834ab96row4_col3\" class=\"data row4 col3\" >-0.065</td>\n",
       "            </tr>\n",
       "            <tr>\n",
       "                        <th id=\"T_a58f21ae_4d0e_11ea_acd9_68f72834ab96level0_row5\" class=\"row_heading level0 row5\" >50%</th>\n",
       "                        <td id=\"T_a58f21ae_4d0e_11ea_acd9_68f72834ab96row5_col0\" class=\"data row5 col0\" >0.133</td>\n",
       "                        <td id=\"T_a58f21ae_4d0e_11ea_acd9_68f72834ab96row5_col1\" class=\"data row5 col1\" >0.000</td>\n",
       "                        <td id=\"T_a58f21ae_4d0e_11ea_acd9_68f72834ab96row5_col2\" class=\"data row5 col2\" >0.199</td>\n",
       "                        <td id=\"T_a58f21ae_4d0e_11ea_acd9_68f72834ab96row5_col3\" class=\"data row5 col3\" >0.068</td>\n",
       "            </tr>\n",
       "            <tr>\n",
       "                        <th id=\"T_a58f21ae_4d0e_11ea_acd9_68f72834ab96level0_row6\" class=\"row_heading level0 row6\" >75%</th>\n",
       "                        <td id=\"T_a58f21ae_4d0e_11ea_acd9_68f72834ab96row6_col0\" class=\"data row6 col0\" >0.307</td>\n",
       "                        <td id=\"T_a58f21ae_4d0e_11ea_acd9_68f72834ab96row6_col1\" class=\"data row6 col1\" >0.299</td>\n",
       "                        <td id=\"T_a58f21ae_4d0e_11ea_acd9_68f72834ab96row6_col2\" class=\"data row6 col2\" >0.331</td>\n",
       "                        <td id=\"T_a58f21ae_4d0e_11ea_acd9_68f72834ab96row6_col3\" class=\"data row6 col3\" >0.243</td>\n",
       "            </tr>\n",
       "            <tr>\n",
       "                        <th id=\"T_a58f21ae_4d0e_11ea_acd9_68f72834ab96level0_row7\" class=\"row_heading level0 row7\" >max</th>\n",
       "                        <td id=\"T_a58f21ae_4d0e_11ea_acd9_68f72834ab96row7_col0\" class=\"data row7 col0\" >0.692</td>\n",
       "                        <td id=\"T_a58f21ae_4d0e_11ea_acd9_68f72834ab96row7_col1\" class=\"data row7 col1\" >2.363</td>\n",
       "                        <td id=\"T_a58f21ae_4d0e_11ea_acd9_68f72834ab96row7_col2\" class=\"data row7 col2\" >2.155</td>\n",
       "                        <td id=\"T_a58f21ae_4d0e_11ea_acd9_68f72834ab96row7_col3\" class=\"data row7 col3\" >1.294</td>\n",
       "            </tr>\n",
       "    </tbody></table>"
      ],
      "text/plain": [
       "<pandas.io.formats.style.Styler at 0xb8b5188>"
      ]
     },
     "execution_count": 23,
     "metadata": {},
     "output_type": "execute_result"
    }
   ],
   "source": [
    "(annual.pivot_table(index='ind',columns='state',values=['ret'],\n",
    "                    aggfunc='describe') # lambda x: x.count()//x.nunique() <-- obs per firm ~ 245\n",
    "       .stack(level=1).unstack(level=0) # move the stats to rows, then move the states up to super columns\n",
    ").reindex(labels=['count','mean','std','min','25%', '50%', '75%',  'max'] # change the order of rows\n",
    ").style.format(\"{:.3f}\")"
   ]
  },
  {
   "cell_type": "markdown",
   "metadata": {},
   "source": [
    "### The distribution of standard deviation\n",
    "\n",
    "Observations:\n",
    "- Either one CA IT firm had turbulent year like nothing else, or this is a data issue...\n",
    "- IT in general was more volatile"
   ]
  },
  {
   "cell_type": "code",
   "execution_count": null,
   "metadata": {},
   "outputs": [],
   "source": [
    "(annual.pivot_table(index='ind',columns='state',values=['std'],\n",
    "                    aggfunc=['describe']) # lambda x: x.count()//x.nunique() <-- obs per firm ~ 245\n",
    "       .stack(level=2).unstack(level=0) # move the stats to rows, then move the states up to super columns\n",
    ").reindex(labels=['count','mean','std','min','25%', '50%', '75%',  'max'] # change the order of rows\n",
    ").style.format(\"{:.3f}\")"
   ]
  },
  {
   "cell_type": "markdown",
   "metadata": {},
   "source": [
    "## Bonus Figure"
   ]
  },
  {
   "cell_type": "code",
   "execution_count": null,
   "metadata": {},
   "outputs": [],
   "source": [
    "import seaborn as sns"
   ]
  },
  {
   "cell_type": "code",
   "execution_count": null,
   "metadata": {},
   "outputs": [],
   "source": [
    "(annual\n",
    " .query('std<1.5') # throw out two outliers that distort the figures\n",
    " .pipe((sns.FacetGrid, 'data'),\n",
    "       row='ind', col='state', \n",
    "       legend_out=True) # set up 4 sub-figures\n",
    " .map(sns.scatterplot, 'std', 'ret', alpha=0.8) \n",
    " .add_legend())"
   ]
  },
  {
   "cell_type": "markdown",
   "metadata": {},
   "source": [
    "## Q1: Which firm in each industry-state had the best month within the year? (Again: Compute exact monthly returns from the daily.)\n",
    "\n",
    "### Calculate monthly return data"
   ]
  },
  {
   "cell_type": "code",
   "execution_count": 24,
   "metadata": {},
   "outputs": [],
   "source": [
    "\n",
    "monthly = pd.DataFrame() # open an empty dataframe\n",
    "\n",
    "monthly['mret'] = (sample.assign(ret=sample['ret']+1) # now we have R(t) for each observation\n",
    "                       .assign(month = sample['date'].dt.month) # get the month\n",
    "                       .groupby(['permno','year','month'])['ret']    # for each firm,\n",
    "                       .prod()                      # multiple all the gross returns\n",
    "                       -1                           # and subtract one to get back to the total period return\n",
    ")\n",
    "\n",
    "# we want our industry and state variables still!\n",
    "monthly['state'] = sample.assign(month = sample['date'].dt.month)\\\n",
    "                         .groupby(['permno','year','month'])['state'].first()\n",
    "monthly['ind']   = sample.assign(month = sample['date'].dt.month)\\\n",
    "                         .groupby(['permno','year','month'])['ind'].first()"
   ]
  },
  {
   "cell_type": "markdown",
   "metadata": {},
   "source": [
    "### Report best months"
   ]
  },
  {
   "cell_type": "code",
   "execution_count": 30,
   "metadata": {},
   "outputs": [
    {
     "data": {
      "text/html": [
       "<div>\n",
       "<style scoped>\n",
       "    .dataframe tbody tr th:only-of-type {\n",
       "        vertical-align: middle;\n",
       "    }\n",
       "\n",
       "    .dataframe tbody tr th {\n",
       "        vertical-align: top;\n",
       "    }\n",
       "\n",
       "    .dataframe thead th {\n",
       "        text-align: right;\n",
       "    }\n",
       "</style>\n",
       "<table border=\"1\" class=\"dataframe\">\n",
       "  <thead>\n",
       "    <tr style=\"text-align: right;\">\n",
       "      <th></th>\n",
       "      <th></th>\n",
       "      <th>permno</th>\n",
       "      <th>year</th>\n",
       "      <th>month</th>\n",
       "      <th>mret</th>\n",
       "    </tr>\n",
       "    <tr>\n",
       "      <th>state</th>\n",
       "      <th>ind</th>\n",
       "      <th></th>\n",
       "      <th></th>\n",
       "      <th></th>\n",
       "      <th></th>\n",
       "    </tr>\n",
       "  </thead>\n",
       "  <tbody>\n",
       "    <tr>\n",
       "      <th rowspan=\"2\" valign=\"top\">CA</th>\n",
       "      <th>Finance</th>\n",
       "      <td>86367.0</td>\n",
       "      <td>2006</td>\n",
       "      <td>9</td>\n",
       "      <td>0.359722</td>\n",
       "    </tr>\n",
       "    <tr>\n",
       "      <th>IT</th>\n",
       "      <td>91435.0</td>\n",
       "      <td>2006</td>\n",
       "      <td>11</td>\n",
       "      <td>3.135714</td>\n",
       "    </tr>\n",
       "    <tr>\n",
       "      <th rowspan=\"2\" valign=\"top\">NY</th>\n",
       "      <th>Finance</th>\n",
       "      <td>81254.0</td>\n",
       "      <td>2006</td>\n",
       "      <td>8</td>\n",
       "      <td>0.554569</td>\n",
       "    </tr>\n",
       "    <tr>\n",
       "      <th>IT</th>\n",
       "      <td>89941.0</td>\n",
       "      <td>2006</td>\n",
       "      <td>4</td>\n",
       "      <td>0.967314</td>\n",
       "    </tr>\n",
       "  </tbody>\n",
       "</table>\n",
       "</div>"
      ],
      "text/plain": [
       "                permno  year  month      mret\n",
       "state ind                                    \n",
       "CA    Finance  86367.0  2006      9  0.359722\n",
       "      IT       91435.0  2006     11  3.135714\n",
       "NY    Finance  81254.0  2006      8  0.554569\n",
       "      IT       89941.0  2006      4  0.967314"
      ]
     },
     "execution_count": 30,
     "metadata": {},
     "output_type": "execute_result"
    }
   ],
   "source": [
    "(monthly.reset_index() # pop permno out from index to variable, else the .agg function can't see it below\n",
    "     .sort_values(['state','ind','mret'],ascending=False) # sort so highest return first\n",
    "      .groupby(['state','ind'])  \n",
    "      .first() # keep the first (highest return) \n",
    "#      [['permno','mret']] # keep only the return\n",
    ")"
   ]
  },
  {
   "cell_type": "markdown",
   "metadata": {},
   "source": [
    "## Q2: Same, but look for the worst month?"
   ]
  },
  {
   "cell_type": "code",
   "execution_count": null,
   "metadata": {},
   "outputs": [],
   "source": [
    "(monthly.reset_index() # pop permno out from index to variable, else the .agg function can't see it below\n",
    "     .sort_values(['state','ind','mret'],ascending=True) # sort so lowest return first\n",
    "     .groupby(['state','ind'])  \n",
    "     .agg(lambda x: x.iloc[0]) # keep the first (highest return) \n",
    "     [['permno','mret']] # keep only the return\n",
    ")"
   ]
  },
  {
   "cell_type": "markdown",
   "metadata": {},
   "source": [
    "## Q3: Which industry-state had the lowest average volatility? \n",
    "\n",
    "We compute volatility for each firm, then take the average for the state-industry.\n",
    "\n",
    "The lowest is Finance in California:"
   ]
  },
  {
   "cell_type": "code",
   "execution_count": null,
   "metadata": {},
   "outputs": [],
   "source": [
    "(\n",
    "    sample.groupby(['ind','state','permno']) # ind and state aren't needed but nice to keep around\n",
    "            ['ret'].std() # now we have volatilities of firms\n",
    "            .groupby(['ind','state']).mean()\n",
    ")    "
   ]
  }
 ],
 "metadata": {
  "kernelspec": {
   "display_name": "Python 3",
   "language": "python",
   "name": "python3"
  },
  "language_info": {
   "codemirror_mode": {
    "name": "ipython",
    "version": 3
   },
   "file_extension": ".py",
   "mimetype": "text/x-python",
   "name": "python",
   "nbconvert_exporter": "python",
   "pygments_lexer": "ipython3",
   "version": "3.7.6"
  }
 },
 "nbformat": 4,
 "nbformat_minor": 2
}
