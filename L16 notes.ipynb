{
 "cells": [
  {
   "cell_type": "code",
   "execution_count": null,
   "metadata": {},
   "outputs": [],
   "source": [
    "import pandas as pd\n",
    "import seaborn as sns\n",
    "import numpy as np\n",
    "import matplotlib.pyplot as plt\n",
    "import statsmodels.api as sm  # one way to do regs\n",
    "from sklearn.linear_model import LinearRegression\n",
    "\n",
    "diamonds = sns.load_dataset('diamonds')\n",
    "\n",
    "# remember the relationship between the quality of diamonds and their price:\n",
    "# low quality diamonds (poor cuts, bad colours, and inferior clarity) have higher prices\n",
    "sns.catplot(data=diamonds,\n",
    "                y='price',x='cut',kind='box')"
   ]
  },
  {
   "cell_type": "markdown",
   "metadata": {},
   "source": [
    "```python\n",
    "# sm framework\n",
    "model1 = sm.OLS(stuff)\n",
    "results1 = model1.fit()\n",
    "print(results1.summary())\n",
    "resid1 = results1.resid     # can put resid1 in df if you want\n",
    "\n",
    "# sklearn framework\n",
    "X = ... # \n",
    "y = ... \n",
    "model = LinearRegression()\n",
    "model.fit(X, y)\n",
    "y_predict = model.predict(X)\n",
    "resid1 = y - y_predict\n",
    "```"
   ]
  }
 ],
 "metadata": {
  "kernelspec": {
   "display_name": "Python 3",
   "language": "python",
   "name": "python3"
  },
  "language_info": {
   "codemirror_mode": {
    "name": "ipython",
    "version": 3
   },
   "file_extension": ".py",
   "mimetype": "text/x-python",
   "name": "python",
   "nbconvert_exporter": "python",
   "pygments_lexer": "ipython3",
   "version": "3.7.6"
  }
 },
 "nbformat": 4,
 "nbformat_minor": 4
}
