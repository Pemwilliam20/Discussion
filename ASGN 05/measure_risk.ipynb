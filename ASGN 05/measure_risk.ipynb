{
 "cells": [
  {
   "cell_type": "code",
   "execution_count": 1,
   "metadata": {},
   "outputs": [],
   "source": [
    "import pandas as pd\n",
    "import numpy as np\n",
    "import os\n",
    "from tqdm.notebook import tqdm     # progress bar on loops\n",
    "from NEAR_regex import NEAR_regex  # copy this file into the asgn folder\n",
    "from bs4 import BeautifulSoup\n",
    "import re"
   ]
  },
  {
   "cell_type": "markdown",
   "metadata": {},
   "source": [
    "## Download the Compustat-EDGAR merged data\n",
    "\n",
    "This dataset has 2007 and 2008 data for each of 169 firms. The 2007 observations have variables to help find the corresponding 10-K on EDGAR. "
   ]
  },
  {
   "cell_type": "code",
   "execution_count": 2,
   "metadata": {},
   "outputs": [],
   "source": [
    "# download and store the input file locally. only do this once, thereafter just load it...\n",
    "    \n",
    "ccm_path = \"input/ccm_and_edgarinfo.dta\"\n",
    "ccm = pd.read_stata(ccm_path)\n",
    "ccm = ccm.drop(labels=['level_0','index'],axis=1)    "
   ]
  },
  {
   "cell_type": "markdown",
   "metadata": {},
   "source": [
    "## Defining the searches\n",
    "\n",
    "### Tax risk exposure\n",
    "\n",
    "Technology firms are often involved in large amounts of creative accounting to reduce tax bills. To identify when a firm is negatively exposed to possible tax changes, I look for a firm mentioning a \"risk term\" near \"tax\" (or similar) and \"changes\". \n",
    "\n",
    "**HIT:** \"A change to tax policies could negatively affect profits\"\n",
    "\n",
    "**NOT A HIT:** \"A change to tax policies is likely\""
   ]
  },
  {
   "cell_type": "code",
   "execution_count": 3,
   "metadata": {},
   "outputs": [],
   "source": [
    "# this will look for mentions with 25 word gaps maximum\n",
    "tax_risks = ['(risk|risks|could harm|negative|negatively|uncertain)',\n",
    "            '(tax|taxes|taxation)',\n",
    "            '(change|new|law|policy|policies|regulation|regulations)']"
   ]
  },
  {
   "cell_type": "markdown",
   "metadata": {},
   "source": [
    "### Tariffs\n",
    "\n",
    "Technology firms often ship product across international borders. To identify when a firm is negatively exposed to possible tariff changes, I look for a firm mentioning a \"risk term\" near \"tariff\" (or similar) and \"changes\". \n",
    "\n",
    "**HIT:** \"A change to tariff policies could negatively affect profits\"\n",
    "\n",
    "**NOT A HIT:** \"A change to tariff policies is likely\""
   ]
  },
  {
   "cell_type": "code",
   "execution_count": 4,
   "metadata": {},
   "outputs": [],
   "source": [
    "# this will look for mentions with 25 word gaps maximum\n",
    "tariff_search = ['(risk|risks|could harm|negative|negatively)',\n",
    "                '(tariff|tariffs)',\n",
    "                '(change|new|law|policy|policies|regulation|regulations)']"
   ]
  },
  {
   "cell_type": "markdown",
   "metadata": {},
   "source": [
    "### Financial constraints\n",
    "\n",
    "Technology firms tend to be younger and smaller than other public firms. According to published research, young and small firms also tend to be financially constrained.\n",
    "\n",
    "Following [Hoberg and Maksimovic](https://poseidon01.ssrn.com/delivery.php?ID=875082005085007108066003027097109092018052053087053016092066101124083072025114105026038106063111031098097099020098001110068066029018023080043026109080070118114124088008042110092095070091123122124087109120115122022004003119096075106076087081087092093&EXT=pdf), I define firms as financially constrained if a firm discusses \"curtailing\" near \"investment\". The full lists, below, come from the paper."
   ]
  },
  {
   "cell_type": "code",
   "execution_count": 5,
   "metadata": {},
   "outputs": [],
   "source": [
    "# this list comes from page 9 of the WP version of Hoberg and Maksimovic (link above)\n",
    "\n",
    "# allow for partial matches and a max gap of 25 (they use 12, but our text is messier)\n",
    "fin_constraints = ['(delay|abandon|eliminate|curtail|scale back|postpone)',\n",
    "                   '(construction|expansion|acquisition|restructuring|project|research|development|exploration|product|expenditure|manufactur|entry|renovat|growth|activities|capital improvement|capital spend|capital proj|commercial release|business plan|transmitter deployment|opening restaurants)' ]"
   ]
  },
  {
   "cell_type": "markdown",
   "metadata": {},
   "source": [
    "### Proprietary Information Leak Risk\n",
    "\n",
    "A crucial task for technology firms is protecting their IP. Following [Hoberg and Maksimovic](https://poseidon01.ssrn.com/delivery.php?ID=875082005085007108066003027097109092018052053087053016092066101124083072025114105026038106063111031098097099020098001110068066029018023080043026109080070118114124088008042110092095070091123122124087109120115122022004003119096075106076087081087092093&EXT=pdf) again, I define firms worried about IP leaks as those that discuss \"protecting\" near \"trade secrets\" or \"proprietary information\". I could use a larger list, but this definition has been vetted.\n"
   ]
  },
  {
   "cell_type": "code",
   "execution_count": 6,
   "metadata": {},
   "outputs": [],
   "source": [
    "proprietary_information_risks = ['(protect|safeguard)',\n",
    "                                '(trade secret|proprietary  information|confidential  information)']"
   ]
  },
  {
   "cell_type": "code",
   "execution_count": 7,
   "metadata": {},
   "outputs": [],
   "source": [
    "# add blank new variables for each of the searches\n",
    "\n",
    "ccm['tax_risks']   = np.nan\n",
    "ccm['tariff_risk'] = np.nan\n",
    "ccm['fincon']      = np.nan\n",
    "ccm['proprietary'] = np.nan"
   ]
  },
  {
   "cell_type": "markdown",
   "metadata": {},
   "source": [
    "## Loop over and parse/search filings\n"
   ]
  },
  {
   "cell_type": "code",
   "execution_count": 8,
   "metadata": {},
   "outputs": [
    {
     "data": {
      "application/vnd.jupyter.widget-view+json": {
       "model_id": "b5c233a22ed441de9eed28bfcc6b9b0a",
       "version_major": 2,
       "version_minor": 0
      },
      "text/plain": [
       "HBox(children=(FloatProgress(value=0.0, max=338.0), HTML(value='')))"
      ]
     },
     "metadata": {},
     "output_type": "display_data"
    },
    {
     "name": "stdout",
     "output_type": "stream",
     "text": [
      "\n"
     ]
    }
   ],
   "source": [
    "# go through each doc and look...\n",
    "\n",
    "for index, row in tqdm(ccm.iterrows(), total=len(ccm)):\n",
    "        \n",
    "    # parse_filing() only works when CIK and FName are valid...\n",
    "    if (np.isnan(row['CIK']) == False) & (row['FName'] != ''):\n",
    "        \n",
    "        # path to file\n",
    "        path_dir = './edgar_filings/cik_' + str(int(row['CIK'])) + '/raw/'\n",
    "        filename = row['FName'].split('/')[-1] \n",
    "        filepath = path_dir + filename\n",
    "        \n",
    "        # open file\n",
    "        with open(filepath,'r') as f:\n",
    "            text = f.read()\n",
    "        \n",
    "        # clean the 10k before searching\n",
    "        lower = BeautifulSoup(text).get_text().lower()\n",
    "        no_punc = re.sub(r'\\W',' ',lower)\n",
    "        cleaned = re.sub(r'\\s+',' ',no_punc).strip()\n",
    "        \n",
    "        # search    \n",
    "        rgx   = NEAR_regex(tax_risks,max_words_between=25)\n",
    "        ccm.loc[index,\"tax_risks\"] = len(re.findall(rgx,cleaned)) \n",
    "        \n",
    "        rgx   = NEAR_regex(tariff_search,max_words_between=25)\n",
    "        ccm.loc[index,\"tariff_risk\"] = len(re.findall(rgx,cleaned)) \n",
    "\n",
    "        rgx   = NEAR_regex(fin_constraints,max_words_between=25,partial=True)\n",
    "        ccm.loc[index,\"fincon\"] = len(re.findall(rgx,cleaned)) \n",
    "\n",
    "        rgx   = NEAR_regex(proprietary_information_risks,max_words_between=25,partial=True)\n",
    "        ccm.loc[index,\"proprietary\"] = len(re.findall(rgx,cleaned)) \n",
    "                "
   ]
  },
  {
   "cell_type": "markdown",
   "metadata": {},
   "source": [
    "## Summary stats on new variables"
   ]
  },
  {
   "cell_type": "code",
   "execution_count": 9,
   "metadata": {},
   "outputs": [
    {
     "data": {
      "text/html": [
       "<div>\n",
       "<style scoped>\n",
       "    .dataframe tbody tr th:only-of-type {\n",
       "        vertical-align: middle;\n",
       "    }\n",
       "\n",
       "    .dataframe tbody tr th {\n",
       "        vertical-align: top;\n",
       "    }\n",
       "\n",
       "    .dataframe thead th {\n",
       "        text-align: right;\n",
       "    }\n",
       "</style>\n",
       "<table border=\"1\" class=\"dataframe\">\n",
       "  <thead>\n",
       "    <tr style=\"text-align: right;\">\n",
       "      <th></th>\n",
       "      <th>tax_risks</th>\n",
       "      <th>tariff_risk</th>\n",
       "      <th>fincon</th>\n",
       "      <th>proprietary</th>\n",
       "    </tr>\n",
       "  </thead>\n",
       "  <tbody>\n",
       "    <tr>\n",
       "      <th>count</th>\n",
       "      <td>148.000000</td>\n",
       "      <td>148.000000</td>\n",
       "      <td>148.000000</td>\n",
       "      <td>148.000000</td>\n",
       "    </tr>\n",
       "    <tr>\n",
       "      <th>mean</th>\n",
       "      <td>0.932432</td>\n",
       "      <td>0.074324</td>\n",
       "      <td>6.959459</td>\n",
       "      <td>2.114865</td>\n",
       "    </tr>\n",
       "    <tr>\n",
       "      <th>std</th>\n",
       "      <td>1.176078</td>\n",
       "      <td>0.263189</td>\n",
       "      <td>6.550566</td>\n",
       "      <td>1.911382</td>\n",
       "    </tr>\n",
       "    <tr>\n",
       "      <th>min</th>\n",
       "      <td>0.000000</td>\n",
       "      <td>0.000000</td>\n",
       "      <td>0.000000</td>\n",
       "      <td>0.000000</td>\n",
       "    </tr>\n",
       "    <tr>\n",
       "      <th>25%</th>\n",
       "      <td>0.000000</td>\n",
       "      <td>0.000000</td>\n",
       "      <td>1.750000</td>\n",
       "      <td>0.000000</td>\n",
       "    </tr>\n",
       "    <tr>\n",
       "      <th>50%</th>\n",
       "      <td>1.000000</td>\n",
       "      <td>0.000000</td>\n",
       "      <td>5.000000</td>\n",
       "      <td>2.000000</td>\n",
       "    </tr>\n",
       "    <tr>\n",
       "      <th>75%</th>\n",
       "      <td>2.000000</td>\n",
       "      <td>0.000000</td>\n",
       "      <td>10.250000</td>\n",
       "      <td>3.000000</td>\n",
       "    </tr>\n",
       "    <tr>\n",
       "      <th>max</th>\n",
       "      <td>5.000000</td>\n",
       "      <td>1.000000</td>\n",
       "      <td>26.000000</td>\n",
       "      <td>8.000000</td>\n",
       "    </tr>\n",
       "  </tbody>\n",
       "</table>\n",
       "</div>"
      ],
      "text/plain": [
       "        tax_risks  tariff_risk      fincon  proprietary\n",
       "count  148.000000   148.000000  148.000000   148.000000\n",
       "mean     0.932432     0.074324    6.959459     2.114865\n",
       "std      1.176078     0.263189    6.550566     1.911382\n",
       "min      0.000000     0.000000    0.000000     0.000000\n",
       "25%      0.000000     0.000000    1.750000     0.000000\n",
       "50%      1.000000     0.000000    5.000000     2.000000\n",
       "75%      2.000000     0.000000   10.250000     3.000000\n",
       "max      5.000000     1.000000   26.000000     8.000000"
      ]
     },
     "execution_count": 9,
     "metadata": {},
     "output_type": "execute_result"
    }
   ],
   "source": [
    "ccm.iloc[:,-4:].describe()"
   ]
  },
  {
   "cell_type": "markdown",
   "metadata": {},
   "source": [
    "## Save the new variables (with the whole dataset)"
   ]
  },
  {
   "cell_type": "code",
   "execution_count": 10,
   "metadata": {},
   "outputs": [],
   "source": [
    "output_folder = 'output/'\n",
    "if not os.path.exists(output_folder):\n",
    "    os.makedirs(output_folder)\n",
    "    \n",
    "ccm.to_stata(output_folder+'ccm_with_risk.dta')"
   ]
  }
 ],
 "metadata": {
  "kernelspec": {
   "display_name": "Python 3",
   "language": "python",
   "name": "python3"
  },
  "language_info": {
   "codemirror_mode": {
    "name": "ipython",
    "version": 3
   },
   "file_extension": ".py",
   "mimetype": "text/x-python",
   "name": "python",
   "nbconvert_exporter": "python",
   "pygments_lexer": "ipython3",
   "version": "3.7.6"
  }
 },
 "nbformat": 4,
 "nbformat_minor": 2
}
