{
 "cells": [
  {
   "cell_type": "code",
   "execution_count": 1,
   "metadata": {},
   "outputs": [],
   "source": [
    "import pandas as pd\n",
    "import numpy as np\n",
    "import os\n",
    "from urllib.request import urlopen # to grab a webpage \n",
    "from tqdm.notebook import tqdm     # progress bar on loops\n",
    "from time import sleep             # so we are nice to the server"
   ]
  },
  {
   "cell_type": "code",
   "execution_count": 2,
   "metadata": {},
   "outputs": [],
   "source": [
    "def make_folder_if_needed(path):\n",
    "    '''\n",
    "    Call makedirs but only if needed\n",
    "    '''\n",
    "    assert path[-1] == '/' # must end with forward slash\n",
    "    if not os.path.exists(path):\n",
    "        os.makedirs(path) # makedirs will make intermediate folders if needed (mkdir won't)\n",
    "    return"
   ]
  },
  {
   "cell_type": "markdown",
   "metadata": {},
   "source": [
    "## Download the Compustat-EDGAR merged data\n",
    "\n",
    "This dataset has 2007 and 2008 data for each of 169 firms. The 2007 observations have variables to help find the corresponding 10-K on EDGAR. "
   ]
  },
  {
   "cell_type": "code",
   "execution_count": 3,
   "metadata": {},
   "outputs": [],
   "source": [
    "# download and store the input file locally. only do this once, thereafter just load it...\n",
    "\n",
    "input_dir = './input/' # if the input dir doesn't exist, make it\n",
    "make_folder_if_needed(input_dir)\n",
    "    \n",
    "ccm_path = input_dir + \"ccm_and_edgarinfo.dta\"\n",
    "if not os.path.exists(ccm_path):\n",
    "    url = 'https://github.com/LeDataSciFi/lectures-spr2020/blob/master/assignment_data/2007_inv_and_tech.dta?raw=true'\n",
    "    ccm = pd.read_stata(url)\n",
    "    ccm.to_stata(ccm_path)\n",
    "else:\n",
    "    ccm = pd.read_stata(ccm_path)\n",
    "    "
   ]
  },
  {
   "cell_type": "markdown",
   "metadata": {},
   "source": [
    "## Loop over and download filings\n",
    "\n",
    "Download each file to to `<pwd>/edgar_filings/cik_<#>/raw/<fname>`. For example: \n",
    "- gvkey 1410 is CIK 771497, has a 2007-12-21 10-K with FName = \"edgar/data/771497/0000950134-07-026080.txt\".\n",
    "- we will store this in `<pwd>/edgar_filings/cik_771497/raw/0000950134-07-026080.txt`\n",
    "- The file name and path do not indicate what form this is, the gvkey, nor what its date is... that info is in the filing dataset (here called \"ccm\").\n",
    "\n",
    "The following function will do the download for a given row in the dataset."
   ]
  },
  {
   "cell_type": "code",
   "execution_count": 4,
   "metadata": {},
   "outputs": [],
   "source": [
    "def DL_filing(df_row):\n",
    "    '''\n",
    "    Input a row from a dataframe containing a CIK and a FName, and this \n",
    "    will download and store the 10-K. \n",
    "    '''\n",
    "    \n",
    "    # where are we putting and naming the file\n",
    "    \n",
    "    path_dir = './edgar_filings/cik_' + str(int(df_row['CIK'])) + '/raw/'\n",
    "    filename = df_row['FName'].split('/')[-1] # 'Fname' is edgar/data/<cik>/<File> Just keep file\n",
    "\n",
    "    # try to download if file still needed\n",
    "    \n",
    "    if not os.path.exists(path_dir + filename): \n",
    "        try:\n",
    "            url = 'https://www.sec.gov/Archives/' + df_row['FName']\n",
    "            r = urlopen(url)\n",
    "        except:\n",
    "            print(\"Failed on: \",filename) # might break tdqm, idk\n",
    "            #TODO log failure\n",
    "        else:             \n",
    "            make_folder_if_needed(path_dir)    \n",
    "            with open(path_dir + filename, 'wb') as f:\n",
    "                f.write(r.read())\n",
    "            #TODO log success    \n",
    "            sleep(3) # be nice to server\n",
    "    \n",
    "    return                     \n"
   ]
  },
  {
   "cell_type": "markdown",
   "metadata": {},
   "source": [
    "Now do the downloading:"
   ]
  },
  {
   "cell_type": "code",
   "execution_count": 5,
   "metadata": {},
   "outputs": [
    {
     "data": {
      "application/vnd.jupyter.widget-view+json": {
       "model_id": "29aaf36209f44d488259cda8df1cb6da",
       "version_major": 2,
       "version_minor": 0
      },
      "text/plain": [
       "HBox(children=(FloatProgress(value=0.0, max=338.0), HTML(value='')))"
      ]
     },
     "metadata": {},
     "output_type": "display_data"
    },
    {
     "name": "stdout",
     "output_type": "stream",
     "text": [
      "\n"
     ]
    }
   ],
   "source": [
    "# you can stop partway through this cell and resume without repeating the steps\n",
    "\n",
    "for index, row in tqdm(ccm.iterrows(), total=len(ccm)):\n",
    "    \n",
    "    # DL_filing() only works when CIK and FName are valid...\n",
    "    if (np.isnan(row['CIK']) == False) & (row['FName'] != ''):\n",
    "        \n",
    "        DL_filing(row) \n"
   ]
  }
 ],
 "metadata": {
  "kernelspec": {
   "display_name": "Python 3",
   "language": "python",
   "name": "python3"
  },
  "language_info": {
   "codemirror_mode": {
    "name": "ipython",
    "version": 3
   },
   "file_extension": ".py",
   "mimetype": "text/x-python",
   "name": "python",
   "nbconvert_exporter": "python",
   "pygments_lexer": "ipython3",
   "version": "3.7.6"
  }
 },
 "nbformat": 4,
 "nbformat_minor": 2
}
